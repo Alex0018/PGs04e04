{
 "cells": [
  {
   "cell_type": "code",
   "execution_count": 1,
   "metadata": {},
   "outputs": [],
   "source": [
    "import pandas as pd\n",
    "import numpy as np\n",
    "\n",
    "import os\n",
    "\n",
    "import matplotlib.pyplot as plt\n",
    "import seaborn as sns\n",
    "\n",
    "from lightgbm import LGBMRegressor as LGB\n",
    "from catboost import CatBoostRegressor as CB\n",
    "\n",
    "from sklearn.model_selection import StratifiedKFold\n",
    "from sklearn.linear_model import LinearRegression\n",
    "from sklearn.compose import TransformedTargetRegressor\n",
    "\n",
    "from sklearn.metrics import mean_squared_log_error, mean_squared_error\n",
    "\n",
    "import functools\n",
    "rmse = functools.partial(mean_squared_error, squared=False)\n",
    "rmsle = functools.partial(mean_squared_log_error, squared=False)\n",
    "\n",
    "SEED=42\n",
    "\n",
    "from src.styles import set_styles, TXT_ACC, TXT_RESET\n",
    "\n",
    "import warnings\n",
    "warnings.filterwarnings('ignore')\n",
    "\n",
    "\n",
    "\n",
    "# ---- REPRODICIBILITY ------------------------------------------------\n",
    "np.random.seed(SEED)\n",
    "\n",
    "\n",
    "\n",
    "# ---- PANDAS ---------------------------------------------------------\n",
    "pd.set_option('display.max_columns', None)\n",
    "pd.options.display.float_format = '{:,.4f}'.format\n",
    "\n",
    "\n",
    "\n",
    "set_styles()"
   ]
  },
  {
   "cell_type": "code",
   "execution_count": 2,
   "metadata": {},
   "outputs": [],
   "source": [
    "class CFG:\n",
    "    path_train = 'data/train.csv'\n",
    "    path_test = 'data/test.csv'\n",
    "    path_original = 'data/abalone.csv'\n",
    "    target = 'Rings'\n",
    "    project = 'PGs04e04'\n",
    "    num_folds = 5"
   ]
  },
  {
   "cell_type": "markdown",
   "metadata": {},
   "source": [
    "# Predictions oof"
   ]
  },
  {
   "cell_type": "code",
   "execution_count": 3,
   "metadata": {},
   "outputs": [],
   "source": [
    "mapper_sex = {'I':0, 'F':1, 'M':2}\n",
    "\n",
    "df_train = pd.read_csv(CFG.path_train).drop('id', axis=1)\n",
    "df_train['Sex'] = df_train['Sex'].map(mapper_sex)\n",
    "\n",
    "df_test = pd.read_csv(CFG.path_test).drop('id', axis=1)\n",
    "df_test['Sex'] = df_test['Sex'].map(mapper_sex)\n",
    "\n",
    "df_original = pd.read_csv(CFG.path_original)\n",
    "df_original['Sex'] = df_original['Sex'].map(mapper_sex)\n",
    "df_original = df_original.rename(columns={'Shucked weight': 'Whole weight.1', 'Viscera weight': 'Whole weight.2'})\n",
    "\n",
    "cv = StratifiedKFold(n_splits=5, shuffle=True, random_state=SEED)\n",
    "cv_idx = [idx for idx in cv.split(df_train, df_train[CFG.target])]"
   ]
  },
  {
   "cell_type": "markdown",
   "metadata": {},
   "source": [
    "## Predictions oof: tree models"
   ]
  },
  {
   "cell_type": "code",
   "execution_count": 4,
   "metadata": {},
   "outputs": [],
   "source": [
    "params_catboost_with_original = [\n",
    "    {'depth': 7, 'verbose': 0, 'subsample': 0.7999999999999999, 'iterations': 974, 'l2_leaf_reg': 20.62778627087155, 'random_state': 42, 'learning_rate': 0.1444264894797429, 'loss_function': 'RMSE', 'min_data_in_leaf': 103}, \n",
    "    {'depth': 7, 'verbose': 0, 'subsample': 0.5, 'iterations': 994, 'l2_leaf_reg': 78.05729168782912, 'random_state': 42, 'learning_rate': 0.1892106979772809, 'loss_function': 'RMSE', 'min_data_in_leaf': 24}, \n",
    "    {'depth': 7, 'verbose': 0, 'subsample': 0.5, 'iterations': 995, 'l2_leaf_reg': 35.753302241413856, 'random_state': 42, 'learning_rate': 0.1530667105689769, 'loss_function': 'RMSE', 'min_data_in_leaf': 294}, \n",
    "    {'depth': 7, 'verbose': 0, 'subsample': 0.7, 'iterations': 951, 'l2_leaf_reg': 16.21107573604743, 'random_state': 42, 'learning_rate': 0.1465196325434651, 'loss_function': 'RMSE', 'min_data_in_leaf': 185}, \n",
    "    {'depth': 6, 'verbose': 0, 'subsample': 0.7, 'iterations': 879, 'l2_leaf_reg': 42.145665562690425, 'random_state': 42, 'learning_rate': 0.1932933415779507, 'loss_function': 'RMSE', 'min_data_in_leaf': 268}]\n",
    "params_lgb_with_original = [\n",
    "    {'device': 'cpu', 'boosting_type': 'gbdt', 'max_depth': 5, 'objective': 'regression', 'reg_alpha': 2.790271401831723, 'subsample': 0.8999999999999999, 'reg_lambda': 98.86202121297616, 'n_estimators': 640, 'random_state': 42, 'learning_rate': 0.1765129798011447}, \n",
    "    {'device': 'cpu', 'boosting_type': 'gbdt', 'max_depth': 5, 'objective': 'regression', 'reg_alpha': 2.2056343316599225, 'subsample': 0.8999999999999999, 'reg_lambda': 93.71192401252894, 'n_estimators': 722, 'random_state': 42, 'learning_rate': 0.1797135568956882}, \n",
    "    {'device': 'cpu', 'boosting_type': 'gbdt', 'max_depth': 5, 'objective': 'regression', 'reg_alpha': 0.9230695630977448, 'subsample': 1.0, 'reg_lambda': 99.21650396828215, 'n_estimators': 579, 'random_state': 42, 'learning_rate': 0.1453865026227929}, \n",
    "    {'device': 'cpu', 'boosting_type': 'gbdt', 'max_depth': 5, 'objective': 'regression', 'reg_alpha': 0.9230695630977448, 'subsample': 1.0, 'reg_lambda': 99.21650396828215, 'n_estimators': 579, 'random_state': 42, 'learning_rate': 0.1453865026227929}, \n",
    "    {'device': 'cpu', 'boosting_type': 'gbdt', 'max_depth': 5, 'objective': 'regression', 'reg_alpha': 1.2229327339862928, 'subsample': 1.0, 'reg_lambda': 93.65955291434508, 'n_estimators': 596, 'random_state': 42, 'learning_rate': 0.1329652767998142}]"
   ]
  },
  {
   "cell_type": "code",
   "execution_count": 6,
   "metadata": {},
   "outputs": [
    {
     "name": "stdout",
     "output_type": "stream",
     "text": [
      "----------------------------------------------------------------------------------------------------\n",
      "Fold 0\n",
      "----------------------------------------------------------------------------------------------------\n",
      "\u001b[1m\u001b[38;5;254m\u001b[48;5;240m Score catboost_with_orig \u001b[0m    0.1482\n",
      "\u001b[1m\u001b[38;5;254m\u001b[48;5;240m Score lgb_with_orig \u001b[0m    0.1477\n",
      "\u001b[1m\u001b[38;5;254m\u001b[48;5;240m Score ft_8_4 \u001b[0m    0.1505\n"
     ]
    },
    {
     "data": {
      "text/html": [
       "<div>\n",
       "<style scoped>\n",
       "    .dataframe tbody tr th:only-of-type {\n",
       "        vertical-align: middle;\n",
       "    }\n",
       "\n",
       "    .dataframe tbody tr th {\n",
       "        vertical-align: top;\n",
       "    }\n",
       "\n",
       "    .dataframe thead th {\n",
       "        text-align: right;\n",
       "    }\n",
       "</style>\n",
       "<table border=\"1\" class=\"dataframe\">\n",
       "  <thead>\n",
       "    <tr style=\"text-align: right;\">\n",
       "      <th></th>\n",
       "      <th>LR weights</th>\n",
       "    </tr>\n",
       "  </thead>\n",
       "  <tbody>\n",
       "    <tr>\n",
       "      <th>catboost_with_orig</th>\n",
       "      <td>0.3704</td>\n",
       "    </tr>\n",
       "    <tr>\n",
       "      <th>lgb_with_orig</th>\n",
       "      <td>0.6285</td>\n",
       "    </tr>\n",
       "  </tbody>\n",
       "</table>\n",
       "</div>"
      ],
      "text/plain": [
       "                    LR weights\n",
       "catboost_with_orig      0.3704\n",
       "lgb_with_orig           0.6285"
      ]
     },
     "metadata": {},
     "output_type": "display_data"
    },
    {
     "name": "stdout",
     "output_type": "stream",
     "text": [
      "\u001b[1m\u001b[38;5;254m\u001b[48;5;240m Score ensemble \u001b[0m    0.1475\n"
     ]
    },
    {
     "data": {
      "text/html": [
       "<div>\n",
       "<style scoped>\n",
       "    .dataframe tbody tr th:only-of-type {\n",
       "        vertical-align: middle;\n",
       "    }\n",
       "\n",
       "    .dataframe tbody tr th {\n",
       "        vertical-align: top;\n",
       "    }\n",
       "\n",
       "    .dataframe thead th {\n",
       "        text-align: right;\n",
       "    }\n",
       "</style>\n",
       "<table border=\"1\" class=\"dataframe\">\n",
       "  <thead>\n",
       "    <tr style=\"text-align: right;\">\n",
       "      <th></th>\n",
       "      <th>LR weights</th>\n",
       "    </tr>\n",
       "  </thead>\n",
       "  <tbody>\n",
       "    <tr>\n",
       "      <th>catboost_with_orig</th>\n",
       "      <td>0.2571</td>\n",
       "    </tr>\n",
       "    <tr>\n",
       "      <th>lgb_with_orig</th>\n",
       "      <td>0.5959</td>\n",
       "    </tr>\n",
       "    <tr>\n",
       "      <th>ft_8_4</th>\n",
       "      <td>0.1490</td>\n",
       "    </tr>\n",
       "  </tbody>\n",
       "</table>\n",
       "</div>"
      ],
      "text/plain": [
       "                    LR weights\n",
       "catboost_with_orig      0.2571\n",
       "lgb_with_orig           0.5959\n",
       "ft_8_4                  0.1490"
      ]
     },
     "metadata": {},
     "output_type": "display_data"
    },
    {
     "name": "stdout",
     "output_type": "stream",
     "text": [
      "\u001b[1m\u001b[38;5;254m\u001b[48;5;240m Score ensemble \u001b[0m    0.1474\n",
      "----------------------------------------------------------------------------------------------------\n",
      "Fold 1\n",
      "----------------------------------------------------------------------------------------------------\n",
      "\u001b[1m\u001b[38;5;254m\u001b[48;5;240m Score catboost_with_orig \u001b[0m    0.1489\n",
      "\u001b[1m\u001b[38;5;254m\u001b[48;5;240m Score lgb_with_orig \u001b[0m    0.1483\n",
      "\u001b[1m\u001b[38;5;254m\u001b[48;5;240m Score ft_8_4 \u001b[0m    0.1514\n"
     ]
    },
    {
     "data": {
      "text/html": [
       "<div>\n",
       "<style scoped>\n",
       "    .dataframe tbody tr th:only-of-type {\n",
       "        vertical-align: middle;\n",
       "    }\n",
       "\n",
       "    .dataframe tbody tr th {\n",
       "        vertical-align: top;\n",
       "    }\n",
       "\n",
       "    .dataframe thead th {\n",
       "        text-align: right;\n",
       "    }\n",
       "</style>\n",
       "<table border=\"1\" class=\"dataframe\">\n",
       "  <thead>\n",
       "    <tr style=\"text-align: right;\">\n",
       "      <th></th>\n",
       "      <th>LR weights</th>\n",
       "    </tr>\n",
       "  </thead>\n",
       "  <tbody>\n",
       "    <tr>\n",
       "      <th>catboost_with_orig</th>\n",
       "      <td>0.3414</td>\n",
       "    </tr>\n",
       "    <tr>\n",
       "      <th>lgb_with_orig</th>\n",
       "      <td>0.6515</td>\n",
       "    </tr>\n",
       "  </tbody>\n",
       "</table>\n",
       "</div>"
      ],
      "text/plain": [
       "                    LR weights\n",
       "catboost_with_orig      0.3414\n",
       "lgb_with_orig           0.6515"
      ]
     },
     "metadata": {},
     "output_type": "display_data"
    },
    {
     "name": "stdout",
     "output_type": "stream",
     "text": [
      "\u001b[1m\u001b[38;5;254m\u001b[48;5;240m Score ensemble \u001b[0m    0.1480\n"
     ]
    },
    {
     "data": {
      "text/html": [
       "<div>\n",
       "<style scoped>\n",
       "    .dataframe tbody tr th:only-of-type {\n",
       "        vertical-align: middle;\n",
       "    }\n",
       "\n",
       "    .dataframe tbody tr th {\n",
       "        vertical-align: top;\n",
       "    }\n",
       "\n",
       "    .dataframe thead th {\n",
       "        text-align: right;\n",
       "    }\n",
       "</style>\n",
       "<table border=\"1\" class=\"dataframe\">\n",
       "  <thead>\n",
       "    <tr style=\"text-align: right;\">\n",
       "      <th></th>\n",
       "      <th>LR weights</th>\n",
       "    </tr>\n",
       "  </thead>\n",
       "  <tbody>\n",
       "    <tr>\n",
       "      <th>catboost_with_orig</th>\n",
       "      <td>0.2320</td>\n",
       "    </tr>\n",
       "    <tr>\n",
       "      <th>lgb_with_orig</th>\n",
       "      <td>0.6425</td>\n",
       "    </tr>\n",
       "    <tr>\n",
       "      <th>ft_8_4</th>\n",
       "      <td>0.1215</td>\n",
       "    </tr>\n",
       "  </tbody>\n",
       "</table>\n",
       "</div>"
      ],
      "text/plain": [
       "                    LR weights\n",
       "catboost_with_orig      0.2320\n",
       "lgb_with_orig           0.6425\n",
       "ft_8_4                  0.1215"
      ]
     },
     "metadata": {},
     "output_type": "display_data"
    },
    {
     "name": "stdout",
     "output_type": "stream",
     "text": [
      "\u001b[1m\u001b[38;5;254m\u001b[48;5;240m Score ensemble \u001b[0m    0.1480\n",
      "----------------------------------------------------------------------------------------------------\n",
      "Fold 2\n",
      "----------------------------------------------------------------------------------------------------\n",
      "\u001b[1m\u001b[38;5;254m\u001b[48;5;240m Score catboost_with_orig \u001b[0m    0.1493\n",
      "\u001b[1m\u001b[38;5;254m\u001b[48;5;240m Score lgb_with_orig \u001b[0m    0.1487\n",
      "\u001b[1m\u001b[38;5;254m\u001b[48;5;240m Score ft_8_4 \u001b[0m    0.1520\n"
     ]
    },
    {
     "data": {
      "text/html": [
       "<div>\n",
       "<style scoped>\n",
       "    .dataframe tbody tr th:only-of-type {\n",
       "        vertical-align: middle;\n",
       "    }\n",
       "\n",
       "    .dataframe tbody tr th {\n",
       "        vertical-align: top;\n",
       "    }\n",
       "\n",
       "    .dataframe thead th {\n",
       "        text-align: right;\n",
       "    }\n",
       "</style>\n",
       "<table border=\"1\" class=\"dataframe\">\n",
       "  <thead>\n",
       "    <tr style=\"text-align: right;\">\n",
       "      <th></th>\n",
       "      <th>LR weights</th>\n",
       "    </tr>\n",
       "  </thead>\n",
       "  <tbody>\n",
       "    <tr>\n",
       "      <th>catboost_with_orig</th>\n",
       "      <td>0.3379</td>\n",
       "    </tr>\n",
       "    <tr>\n",
       "      <th>lgb_with_orig</th>\n",
       "      <td>0.6640</td>\n",
       "    </tr>\n",
       "  </tbody>\n",
       "</table>\n",
       "</div>"
      ],
      "text/plain": [
       "                    LR weights\n",
       "catboost_with_orig      0.3379\n",
       "lgb_with_orig           0.6640"
      ]
     },
     "metadata": {},
     "output_type": "display_data"
    },
    {
     "name": "stdout",
     "output_type": "stream",
     "text": [
      "\u001b[1m\u001b[38;5;254m\u001b[48;5;240m Score ensemble \u001b[0m    0.1485\n"
     ]
    },
    {
     "data": {
      "text/html": [
       "<div>\n",
       "<style scoped>\n",
       "    .dataframe tbody tr th:only-of-type {\n",
       "        vertical-align: middle;\n",
       "    }\n",
       "\n",
       "    .dataframe tbody tr th {\n",
       "        vertical-align: top;\n",
       "    }\n",
       "\n",
       "    .dataframe thead th {\n",
       "        text-align: right;\n",
       "    }\n",
       "</style>\n",
       "<table border=\"1\" class=\"dataframe\">\n",
       "  <thead>\n",
       "    <tr style=\"text-align: right;\">\n",
       "      <th></th>\n",
       "      <th>LR weights</th>\n",
       "    </tr>\n",
       "  </thead>\n",
       "  <tbody>\n",
       "    <tr>\n",
       "      <th>catboost_with_orig</th>\n",
       "      <td>0.2524</td>\n",
       "    </tr>\n",
       "    <tr>\n",
       "      <th>lgb_with_orig</th>\n",
       "      <td>0.6418</td>\n",
       "    </tr>\n",
       "    <tr>\n",
       "      <th>ft_8_4</th>\n",
       "      <td>0.1084</td>\n",
       "    </tr>\n",
       "  </tbody>\n",
       "</table>\n",
       "</div>"
      ],
      "text/plain": [
       "                    LR weights\n",
       "catboost_with_orig      0.2524\n",
       "lgb_with_orig           0.6418\n",
       "ft_8_4                  0.1084"
      ]
     },
     "metadata": {},
     "output_type": "display_data"
    },
    {
     "name": "stdout",
     "output_type": "stream",
     "text": [
      "\u001b[1m\u001b[38;5;254m\u001b[48;5;240m Score ensemble \u001b[0m    0.1485\n",
      "----------------------------------------------------------------------------------------------------\n",
      "Fold 3\n",
      "----------------------------------------------------------------------------------------------------\n",
      "\u001b[1m\u001b[38;5;254m\u001b[48;5;240m Score catboost_with_orig \u001b[0m    0.1491\n",
      "\u001b[1m\u001b[38;5;254m\u001b[48;5;240m Score lgb_with_orig \u001b[0m    0.1488\n",
      "\u001b[1m\u001b[38;5;254m\u001b[48;5;240m Score ft_8_4 \u001b[0m    0.1523\n"
     ]
    },
    {
     "data": {
      "text/html": [
       "<div>\n",
       "<style scoped>\n",
       "    .dataframe tbody tr th:only-of-type {\n",
       "        vertical-align: middle;\n",
       "    }\n",
       "\n",
       "    .dataframe tbody tr th {\n",
       "        vertical-align: top;\n",
       "    }\n",
       "\n",
       "    .dataframe thead th {\n",
       "        text-align: right;\n",
       "    }\n",
       "</style>\n",
       "<table border=\"1\" class=\"dataframe\">\n",
       "  <thead>\n",
       "    <tr style=\"text-align: right;\">\n",
       "      <th></th>\n",
       "      <th>LR weights</th>\n",
       "    </tr>\n",
       "  </thead>\n",
       "  <tbody>\n",
       "    <tr>\n",
       "      <th>catboost_with_orig</th>\n",
       "      <td>0.4144</td>\n",
       "    </tr>\n",
       "    <tr>\n",
       "      <th>lgb_with_orig</th>\n",
       "      <td>0.5885</td>\n",
       "    </tr>\n",
       "  </tbody>\n",
       "</table>\n",
       "</div>"
      ],
      "text/plain": [
       "                    LR weights\n",
       "catboost_with_orig      0.4144\n",
       "lgb_with_orig           0.5885"
      ]
     },
     "metadata": {},
     "output_type": "display_data"
    },
    {
     "name": "stdout",
     "output_type": "stream",
     "text": [
      "\u001b[1m\u001b[38;5;254m\u001b[48;5;240m Score ensemble \u001b[0m    0.1485\n"
     ]
    },
    {
     "data": {
      "text/html": [
       "<div>\n",
       "<style scoped>\n",
       "    .dataframe tbody tr th:only-of-type {\n",
       "        vertical-align: middle;\n",
       "    }\n",
       "\n",
       "    .dataframe tbody tr th {\n",
       "        vertical-align: top;\n",
       "    }\n",
       "\n",
       "    .dataframe thead th {\n",
       "        text-align: right;\n",
       "    }\n",
       "</style>\n",
       "<table border=\"1\" class=\"dataframe\">\n",
       "  <thead>\n",
       "    <tr style=\"text-align: right;\">\n",
       "      <th></th>\n",
       "      <th>LR weights</th>\n",
       "    </tr>\n",
       "  </thead>\n",
       "  <tbody>\n",
       "    <tr>\n",
       "      <th>catboost_with_orig</th>\n",
       "      <td>0.3903</td>\n",
       "    </tr>\n",
       "    <tr>\n",
       "      <th>lgb_with_orig</th>\n",
       "      <td>0.5771</td>\n",
       "    </tr>\n",
       "    <tr>\n",
       "      <th>ft_8_4</th>\n",
       "      <td>0.0358</td>\n",
       "    </tr>\n",
       "  </tbody>\n",
       "</table>\n",
       "</div>"
      ],
      "text/plain": [
       "                    LR weights\n",
       "catboost_with_orig      0.3903\n",
       "lgb_with_orig           0.5771\n",
       "ft_8_4                  0.0358"
      ]
     },
     "metadata": {},
     "output_type": "display_data"
    },
    {
     "name": "stdout",
     "output_type": "stream",
     "text": [
      "\u001b[1m\u001b[38;5;254m\u001b[48;5;240m Score ensemble \u001b[0m    0.1485\n",
      "----------------------------------------------------------------------------------------------------\n",
      "Fold 4\n",
      "----------------------------------------------------------------------------------------------------\n",
      "\u001b[1m\u001b[38;5;254m\u001b[48;5;240m Score catboost_with_orig \u001b[0m    0.1471\n",
      "\u001b[1m\u001b[38;5;254m\u001b[48;5;240m Score lgb_with_orig \u001b[0m    0.1467\n",
      "\u001b[1m\u001b[38;5;254m\u001b[48;5;240m Score ft_8_4 \u001b[0m    0.1496\n"
     ]
    },
    {
     "data": {
      "text/html": [
       "<div>\n",
       "<style scoped>\n",
       "    .dataframe tbody tr th:only-of-type {\n",
       "        vertical-align: middle;\n",
       "    }\n",
       "\n",
       "    .dataframe tbody tr th {\n",
       "        vertical-align: top;\n",
       "    }\n",
       "\n",
       "    .dataframe thead th {\n",
       "        text-align: right;\n",
       "    }\n",
       "</style>\n",
       "<table border=\"1\" class=\"dataframe\">\n",
       "  <thead>\n",
       "    <tr style=\"text-align: right;\">\n",
       "      <th></th>\n",
       "      <th>LR weights</th>\n",
       "    </tr>\n",
       "  </thead>\n",
       "  <tbody>\n",
       "    <tr>\n",
       "      <th>catboost_with_orig</th>\n",
       "      <td>0.4020</td>\n",
       "    </tr>\n",
       "    <tr>\n",
       "      <th>lgb_with_orig</th>\n",
       "      <td>0.6066</td>\n",
       "    </tr>\n",
       "  </tbody>\n",
       "</table>\n",
       "</div>"
      ],
      "text/plain": [
       "                    LR weights\n",
       "catboost_with_orig      0.4020\n",
       "lgb_with_orig           0.6066"
      ]
     },
     "metadata": {},
     "output_type": "display_data"
    },
    {
     "name": "stdout",
     "output_type": "stream",
     "text": [
      "\u001b[1m\u001b[38;5;254m\u001b[48;5;240m Score ensemble \u001b[0m    0.1465\n"
     ]
    },
    {
     "data": {
      "text/html": [
       "<div>\n",
       "<style scoped>\n",
       "    .dataframe tbody tr th:only-of-type {\n",
       "        vertical-align: middle;\n",
       "    }\n",
       "\n",
       "    .dataframe tbody tr th {\n",
       "        vertical-align: top;\n",
       "    }\n",
       "\n",
       "    .dataframe thead th {\n",
       "        text-align: right;\n",
       "    }\n",
       "</style>\n",
       "<table border=\"1\" class=\"dataframe\">\n",
       "  <thead>\n",
       "    <tr style=\"text-align: right;\">\n",
       "      <th></th>\n",
       "      <th>LR weights</th>\n",
       "    </tr>\n",
       "  </thead>\n",
       "  <tbody>\n",
       "    <tr>\n",
       "      <th>catboost_with_orig</th>\n",
       "      <td>0.3224</td>\n",
       "    </tr>\n",
       "    <tr>\n",
       "      <th>lgb_with_orig</th>\n",
       "      <td>0.5776</td>\n",
       "    </tr>\n",
       "    <tr>\n",
       "      <th>ft_8_4</th>\n",
       "      <td>0.1100</td>\n",
       "    </tr>\n",
       "  </tbody>\n",
       "</table>\n",
       "</div>"
      ],
      "text/plain": [
       "                    LR weights\n",
       "catboost_with_orig      0.3224\n",
       "lgb_with_orig           0.5776\n",
       "ft_8_4                  0.1100"
      ]
     },
     "metadata": {},
     "output_type": "display_data"
    },
    {
     "name": "stdout",
     "output_type": "stream",
     "text": [
      "\u001b[1m\u001b[38;5;254m\u001b[48;5;240m Score ensemble \u001b[0m    0.1464\n"
     ]
    }
   ],
   "source": [
    "X = df_train.drop(CFG.target, axis=1)\n",
    "Y = df_train[CFG.target]\n",
    "X_orig = df_original.copy()\n",
    "Y_orig = X_orig.pop(CFG.target)\n",
    "\n",
    "for fold in range(CFG.num_folds):\n",
    "\n",
    "    print('-'*100)\n",
    "    print('Fold', fold)\n",
    "    print('-'*100)\n",
    "\n",
    "    preds_ft = pd.read_csv(f'OOF_ft_8_4_fold{fold}.csv')\n",
    "\n",
    "    models = (\n",
    "            ('catboost_with_orig', TransformedTargetRegressor(\n",
    "                            CB(**params_catboost_with_original[fold]),\n",
    "                            func=np.log1p, \n",
    "                            inverse_func=np.expm1)),\n",
    "            ('lgb_with_orig', TransformedTargetRegressor(\n",
    "                            LGB(**params_lgb_with_original[fold], num_leaves=2**params_lgb_with_original[fold]['max_depth']-1), \n",
    "                            func=np.log1p, \n",
    "                            inverse_func=np.expm1)),\n",
    "        )\n",
    "\n",
    "    preds_tree_models = []\n",
    "    for label, model in models:\n",
    "        if 'with_orig' in label:\n",
    "            model.fit(  pd.concat([X.loc[cv_idx[fold][0]], X_orig], axis=0),  \n",
    "                        pd.concat([Y.loc[cv_idx[fold][0]], Y_orig], axis=0))\n",
    "        else:\n",
    "            model.fit(X.loc[cv_idx[fold][0]], Y.loc[cv_idx[fold][0]])\n",
    "        preds_tree_models.append( model.predict(X.loc[cv_idx[fold][1]]) )\n",
    "\n",
    "    gt = Y.loc[cv_idx[fold][1]]\n",
    "    for i, (label, model) in enumerate(models):\n",
    "        print(f'{TXT_ACC} Score {label} {TXT_RESET}    {rmsle(gt, preds_tree_models[i]):.4f}')\n",
    "\n",
    "    print(f'{TXT_ACC} Score ft_8_4 {TXT_RESET}    {rmsle(gt, preds_ft[CFG.target].values):.4f}')\n",
    "\n",
    "    ensembler = LinearRegression(positive=True)\n",
    "    df_ens_data = np.log1p(preds_tree_models).T\n",
    "    ensembler.fit(df_ens_data, np.log1p(gt))\n",
    "    ens_oof = np.expm1(ensembler.predict(df_ens_data) )\n",
    "\n",
    "    display(pd.DataFrame(ensembler.coef_, index=[m[0] for m in models], columns=['LR weights']))\n",
    "    \n",
    "\n",
    "    print(f'{TXT_ACC} Score ensemble {TXT_RESET}    {rmsle(gt, ens_oof):.4f}')\n",
    "\n",
    "\n",
    "    preds_tree_models.append(preds_ft[CFG.target].values)\n",
    "\n",
    "    ensembler = LinearRegression(positive=True)\n",
    "    df_ens_data = np.log1p(preds_tree_models).T\n",
    "    ensembler.fit(df_ens_data, np.log1p(gt))\n",
    "    ens_oof = np.expm1(ensembler.predict(df_ens_data) )\n",
    "\n",
    "    display(pd.DataFrame(ensembler.coef_, index=[*[m[0] for m in models], 'ft_8_4'], columns=['LR weights']))\n",
    "    \n",
    "\n",
    "    print(f'{TXT_ACC} Score ensemble {TXT_RESET}    {rmsle(gt, ens_oof):.4f}')"
   ]
  },
  {
   "cell_type": "code",
   "execution_count": null,
   "metadata": {},
   "outputs": [],
   "source": []
  }
 ],
 "metadata": {
  "kernelspec": {
   "display_name": "Python 3",
   "language": "python",
   "name": "python3"
  },
  "language_info": {
   "codemirror_mode": {
    "name": "ipython",
    "version": 3
   },
   "file_extension": ".py",
   "mimetype": "text/x-python",
   "name": "python",
   "nbconvert_exporter": "python",
   "pygments_lexer": "ipython3",
   "version": "3.8.10"
  }
 },
 "nbformat": 4,
 "nbformat_minor": 2
}
